{
 "cells": [
  {
   "cell_type": "code",
   "execution_count": 1,
   "metadata": {},
   "outputs": [],
   "source": [
    "import numpy as np\n",
    "import sys\n",
    "import os\n",
    "from src.IsoEM import IsoEM\n",
    "import matplotlib.pyplot as plt\n",
    "import re\n",
    "import pandas as pd"
   ]
  },
  {
   "attachments": {},
   "cell_type": "markdown",
   "metadata": {},
   "source": [
    "## Run Expectation Maximization"
   ]
  },
  {
   "attachments": {},
   "cell_type": "markdown",
   "metadata": {},
   "source": [
    "#### Define File Paths"
   ]
  },
  {
   "cell_type": "code",
   "execution_count": 2,
   "metadata": {},
   "outputs": [],
   "source": [
    "# Define File Paths\n",
    "\n",
    "data_path = f\"{os.getcwd()}/data/\"\n",
    "transcriptome_path = data_path + \"chr11_transcriptome.fasta\"\n",
    "alignment_path = data_path + \"aligned.bam\""
   ]
  },
  {
   "attachments": {},
   "cell_type": "markdown",
   "metadata": {},
   "source": [
    "#### Initialize IsoEM class with data paths and set maximum iterations and convergence threshold."
   ]
  },
  {
   "cell_type": "code",
   "execution_count": 3,
   "metadata": {},
   "outputs": [
    {
     "name": "stderr",
     "output_type": "stream",
     "text": [
      "[E::idx_find_and_load] Could not retrieve index file for '/Users/arushramteke/Desktop/CM121/Project/RNASeq-Quantification/data/aligned.bam'\n"
     ]
    }
   ],
   "source": [
    "isoem = IsoEM(transcriptome_path, alignment_path, max_iter=500, convergence_threshold=0.005)"
   ]
  },
  {
   "attachments": {},
   "cell_type": "markdown",
   "metadata": {},
   "source": [
    "#### Run Expectation Maximization Algorithm"
   ]
  },
  {
   "cell_type": "code",
   "execution_count": 4,
   "metadata": {},
   "outputs": [
    {
     "name": "stdout",
     "output_type": "stream",
     "text": [
      "Iteration: 1, Median Relative Difference: 0.9321344400772182\n",
      "Iteration: 2, Median Relative Difference: 0.12207223168281162\n",
      "Iteration: 3, Median Relative Difference: 0.08564758049347007\n",
      "Iteration: 4, Median Relative Difference: 0.06481661741407235\n",
      "Iteration: 5, Median Relative Difference: 0.049135926140851716\n",
      "Iteration: 6, Median Relative Difference: 0.04042993037516829\n",
      "Iteration: 7, Median Relative Difference: 0.034603577732955595\n",
      "Iteration: 8, Median Relative Difference: 0.02963299900782284\n"
     ]
    },
    {
     "ename": "KeyboardInterrupt",
     "evalue": "",
     "output_type": "error",
     "traceback": [
      "\u001b[0;31m---------------------------------------------------------------------------\u001b[0m",
      "\u001b[0;31mKeyboardInterrupt\u001b[0m                         Traceback (most recent call last)",
      "Cell \u001b[0;32mIn[4], line 1\u001b[0m\n\u001b[0;32m----> 1\u001b[0m isoem\u001b[39m.\u001b[39;49mEM()\n",
      "File \u001b[0;32m~/Desktop/CM121/Project/RNASeq-Quantification/src/IsoEM.py:83\u001b[0m, in \u001b[0;36mIsoEM.EM\u001b[0;34m(self)\u001b[0m\n\u001b[1;32m     81\u001b[0m med_rel_diff, epoch \u001b[39m=\u001b[39m \u001b[39m1\u001b[39m, \u001b[39m0\u001b[39m\n\u001b[1;32m     82\u001b[0m \u001b[39mwhile\u001b[39;00m med_rel_diff \u001b[39m>\u001b[39m \u001b[39mself\u001b[39m\u001b[39m.\u001b[39mconvergence_threshold \u001b[39mand\u001b[39;00m epoch \u001b[39m<\u001b[39m \u001b[39mself\u001b[39m\u001b[39m.\u001b[39mmax_iter:\n\u001b[0;32m---> 83\u001b[0m     \u001b[39mself\u001b[39;49m\u001b[39m.\u001b[39;49mestep()\n\u001b[1;32m     84\u001b[0m     new_theta \u001b[39m=\u001b[39m \u001b[39mself\u001b[39m\u001b[39m.\u001b[39mmstep()\n\u001b[1;32m     85\u001b[0m     med_rel_diff, mean_rel_diff \u001b[39m=\u001b[39m \u001b[39mself\u001b[39m\u001b[39m.\u001b[39mget_median_relative_difference(new_theta)\n",
      "File \u001b[0;32m~/Desktop/CM121/Project/RNASeq-Quantification/src/IsoEM.py:64\u001b[0m, in \u001b[0;36mIsoEM.estep\u001b[0;34m(self)\u001b[0m\n\u001b[1;32m     62\u001b[0m     weight_sum \u001b[39m=\u001b[39m \u001b[39msum\u001b[39m([\u001b[39mself\u001b[39m\u001b[39m.\u001b[39mtheta[j] \u001b[39m*\u001b[39m \u001b[39mself\u001b[39m\u001b[39m.\u001b[39mweights[read][j] \u001b[39mfor\u001b[39;00m j \u001b[39min\u001b[39;00m \u001b[39mself\u001b[39m\u001b[39m.\u001b[39mweights[read]])\n\u001b[1;32m     63\u001b[0m     \u001b[39mfor\u001b[39;00m j \u001b[39min\u001b[39;00m \u001b[39mself\u001b[39m\u001b[39m.\u001b[39mweights[read]:\n\u001b[0;32m---> 64\u001b[0m         read_counts[j] \u001b[39m+\u001b[39m\u001b[39m=\u001b[39m (\u001b[39mself\u001b[39m\u001b[39m.\u001b[39mtheta[j] \u001b[39m*\u001b[39m \u001b[39mself\u001b[39m\u001b[39m.\u001b[39mweights[read][j])\u001b[39m/\u001b[39mweight_sum\n\u001b[1;32m     65\u001b[0m \u001b[39mself\u001b[39m\u001b[39m.\u001b[39mexpected_counts \u001b[39m=\u001b[39m read_counts\n\u001b[1;32m     66\u001b[0m \u001b[39mreturn\u001b[39;00m read_counts\n",
      "\u001b[0;31mKeyboardInterrupt\u001b[0m: "
     ]
    }
   ],
   "source": [
    "isoem.EM()"
   ]
  },
  {
   "cell_type": "code",
   "execution_count": 5,
   "metadata": {},
   "outputs": [],
   "source": [
    "df, meddiff, avgdiff = isoem.get_results()"
   ]
  },
  {
   "attachments": {},
   "cell_type": "markdown",
   "metadata": {},
   "source": [
    "#### Results Table"
   ]
  },
  {
   "cell_type": "code",
   "execution_count": 6,
   "metadata": {},
   "outputs": [
    {
     "data": {
      "text/html": [
       "<div>\n",
       "<style scoped>\n",
       "    .dataframe tbody tr th:only-of-type {\n",
       "        vertical-align: middle;\n",
       "    }\n",
       "\n",
       "    .dataframe tbody tr th {\n",
       "        vertical-align: top;\n",
       "    }\n",
       "\n",
       "    .dataframe thead th {\n",
       "        text-align: right;\n",
       "    }\n",
       "</style>\n",
       "<table border=\"1\" class=\"dataframe\">\n",
       "  <thead>\n",
       "    <tr style=\"text-align: right;\">\n",
       "      <th></th>\n",
       "      <th>transcript</th>\n",
       "      <th>length</th>\n",
       "      <th>effective_length</th>\n",
       "      <th>expected_counts</th>\n",
       "      <th>tpm</th>\n",
       "    </tr>\n",
       "  </thead>\n",
       "  <tbody>\n",
       "    <tr>\n",
       "      <th>0</th>\n",
       "      <td>ENST00000410108</td>\n",
       "      <td>637</td>\n",
       "      <td>438</td>\n",
       "      <td>116</td>\n",
       "      <td>184.84</td>\n",
       "    </tr>\n",
       "    <tr>\n",
       "      <th>1</th>\n",
       "      <td>ENST00000325147</td>\n",
       "      <td>2916</td>\n",
       "      <td>2717</td>\n",
       "      <td>302</td>\n",
       "      <td>77.13</td>\n",
       "    </tr>\n",
       "    <tr>\n",
       "      <th>2</th>\n",
       "      <td>ENST00000382762</td>\n",
       "      <td>2792</td>\n",
       "      <td>2593</td>\n",
       "      <td>1234</td>\n",
       "      <td>329.52</td>\n",
       "    </tr>\n",
       "    <tr>\n",
       "      <th>3</th>\n",
       "      <td>ENST00000529614</td>\n",
       "      <td>560</td>\n",
       "      <td>361</td>\n",
       "      <td>4</td>\n",
       "      <td>9.39</td>\n",
       "    </tr>\n",
       "    <tr>\n",
       "      <th>4</th>\n",
       "      <td>ENST00000332865</td>\n",
       "      <td>533</td>\n",
       "      <td>334</td>\n",
       "      <td>26</td>\n",
       "      <td>55.38</td>\n",
       "    </tr>\n",
       "    <tr>\n",
       "      <th>...</th>\n",
       "      <td>...</td>\n",
       "      <td>...</td>\n",
       "      <td>...</td>\n",
       "      <td>...</td>\n",
       "      <td>...</td>\n",
       "    </tr>\n",
       "    <tr>\n",
       "      <th>7133</th>\n",
       "      <td>ENST00000339772</td>\n",
       "      <td>3152</td>\n",
       "      <td>2953</td>\n",
       "      <td>9</td>\n",
       "      <td>2.14</td>\n",
       "    </tr>\n",
       "    <tr>\n",
       "      <th>7134</th>\n",
       "      <td>ENST00000535456</td>\n",
       "      <td>3251</td>\n",
       "      <td>3052</td>\n",
       "      <td>3</td>\n",
       "      <td>0.88</td>\n",
       "    </tr>\n",
       "    <tr>\n",
       "      <th>7135</th>\n",
       "      <td>ENST00000392580</td>\n",
       "      <td>3522</td>\n",
       "      <td>3323</td>\n",
       "      <td>0</td>\n",
       "      <td>0.00</td>\n",
       "    </tr>\n",
       "    <tr>\n",
       "      <th>7136</th>\n",
       "      <td>ENST00000312527</td>\n",
       "      <td>3976</td>\n",
       "      <td>3777</td>\n",
       "      <td>0</td>\n",
       "      <td>0.00</td>\n",
       "    </tr>\n",
       "    <tr>\n",
       "      <th>7137</th>\n",
       "      <td>ENST00000524765</td>\n",
       "      <td>5737</td>\n",
       "      <td>5538</td>\n",
       "      <td>11</td>\n",
       "      <td>1.50</td>\n",
       "    </tr>\n",
       "  </tbody>\n",
       "</table>\n",
       "<p>7138 rows × 5 columns</p>\n",
       "</div>"
      ],
      "text/plain": [
       "           transcript  length  effective_length  expected_counts    tpm\n",
       "0     ENST00000410108     637               438              116 184.84\n",
       "1     ENST00000325147    2916              2717              302  77.13\n",
       "2     ENST00000382762    2792              2593             1234 329.52\n",
       "3     ENST00000529614     560               361                4   9.39\n",
       "4     ENST00000332865     533               334               26  55.38\n",
       "...               ...     ...               ...              ...    ...\n",
       "7133  ENST00000339772    3152              2953                9   2.14\n",
       "7134  ENST00000535456    3251              3052                3   0.88\n",
       "7135  ENST00000392580    3522              3323                0   0.00\n",
       "7136  ENST00000312527    3976              3777                0   0.00\n",
       "7137  ENST00000524765    5737              5538               11   1.50\n",
       "\n",
       "[7138 rows x 5 columns]"
      ]
     },
     "execution_count": 6,
     "metadata": {},
     "output_type": "execute_result"
    }
   ],
   "source": [
    "df"
   ]
  },
  {
   "attachments": {},
   "cell_type": "markdown",
   "metadata": {},
   "source": [
    "#### Plot Median Relative Difference"
   ]
  },
  {
   "cell_type": "code",
   "execution_count": 7,
   "metadata": {},
   "outputs": [
    {
     "data": {
      "text/plain": [
       "([<matplotlib.axis.XTick at 0x7fe4b9ea9fc0>,\n",
       "  <matplotlib.axis.XTick at 0x7fe4b9ea9f90>,\n",
       "  <matplotlib.axis.XTick at 0x7fe4b9ea9ea0>,\n",
       "  <matplotlib.axis.XTick at 0x7fe4b9f024d0>,\n",
       "  <matplotlib.axis.XTick at 0x7fe4b9f02cb0>,\n",
       "  <matplotlib.axis.XTick at 0x7fe4b9f03760>],\n",
       " [Text(0, 0, '0'),\n",
       "  Text(5, 0, '5'),\n",
       "  Text(10, 0, '10'),\n",
       "  Text(15, 0, '15'),\n",
       "  Text(20, 0, '20'),\n",
       "  Text(25, 0, '25')])"
      ]
     },
     "execution_count": 7,
     "metadata": {},
     "output_type": "execute_result"
    },
    {
     "data": {
      "image/png": "[encoded data removed]",
      "text/plain": [
       "<Figure size 640x480 with 1 Axes>"
      ]
     },
     "metadata": {},
     "output_type": "display_data"
    }
   ],
   "source": [
    "plt.plot(np.arange(1, len(meddiff) + 1), meddiff)\n",
    "plt.ylabel('Relative Difference')\n",
    "plt.xlabel('Iteration')\n",
    "plt.title('Median Relative Difference in  Relative Abundances')\n",
    "plt.xticks(range(0,len(meddiff) + 1, 5))"
   ]
  },
  {
   "attachments": {},
   "cell_type": "markdown",
   "metadata": {},
   "source": [
    "#### Save Results"
   ]
  },
  {
   "cell_type": "code",
   "execution_count": 8,
   "metadata": {},
   "outputs": [],
   "source": [
    "df.to_csv(f'{os.getcwd()}/results/table.csv')\n",
    "with open(f'{os.getcwd()}/results/median_relative_diffs.npy', 'wb') as f:\n",
    "    np.save(f, meddiff)\n",
    "with open(f'{os.getcwd()}/results/mean_relative_diffs.npy', 'wb') as f:\n",
    "    np.save(f, avgdiff)"
   ]
  },
  {
   "attachments": {},
   "cell_type": "markdown",
   "metadata": {},
   "source": [
    "## Comparison with Kallisto"
   ]
  },
  {
   "cell_type": "code",
   "execution_count": 5,
   "metadata": {},
   "outputs": [],
   "source": [
    "kallisto = pd.read_csv(f'{os.getcwd()}/kallisto/output/abundance.tsv', sep='\\t')\n",
    "em = pd.read_csv(f'{os.getcwd()}/results/table.csv')"
   ]
  },
  {
   "cell_type": "code",
   "execution_count": 10,
   "metadata": {},
   "outputs": [
    {
     "data": {
      "text/html": [
       "<div>\n",
       "<style scoped>\n",
       "    .dataframe tbody tr th:only-of-type {\n",
       "        vertical-align: middle;\n",
       "    }\n",
       "\n",
       "    .dataframe tbody tr th {\n",
       "        vertical-align: top;\n",
       "    }\n",
       "\n",
       "    .dataframe thead th {\n",
       "        text-align: right;\n",
       "    }\n",
       "</style>\n",
       "<table border=\"1\" class=\"dataframe\">\n",
       "  <thead>\n",
       "    <tr style=\"text-align: right;\">\n",
       "      <th></th>\n",
       "      <th>target_id</th>\n",
       "      <th>length</th>\n",
       "      <th>eff_length</th>\n",
       "      <th>est_counts</th>\n",
       "      <th>tpm</th>\n",
       "    </tr>\n",
       "  </thead>\n",
       "  <tbody>\n",
       "    <tr>\n",
       "      <th>0</th>\n",
       "      <td>ENST00000410108</td>\n",
       "      <td>637</td>\n",
       "      <td>438</td>\n",
       "      <td>115.22</td>\n",
       "      <td>230.18</td>\n",
       "    </tr>\n",
       "    <tr>\n",
       "      <th>1</th>\n",
       "      <td>ENST00000325147</td>\n",
       "      <td>2916</td>\n",
       "      <td>2717</td>\n",
       "      <td>146.54</td>\n",
       "      <td>47.20</td>\n",
       "    </tr>\n",
       "    <tr>\n",
       "      <th>2</th>\n",
       "      <td>ENST00000382762</td>\n",
       "      <td>2792</td>\n",
       "      <td>2593</td>\n",
       "      <td>1,419.01</td>\n",
       "      <td>478.85</td>\n",
       "    </tr>\n",
       "    <tr>\n",
       "      <th>3</th>\n",
       "      <td>ENST00000529614</td>\n",
       "      <td>560</td>\n",
       "      <td>361</td>\n",
       "      <td>0</td>\n",
       "      <td>0</td>\n",
       "    </tr>\n",
       "    <tr>\n",
       "      <th>4</th>\n",
       "      <td>ENST00000332865</td>\n",
       "      <td>533</td>\n",
       "      <td>334</td>\n",
       "      <td>0</td>\n",
       "      <td>0</td>\n",
       "    </tr>\n",
       "    <tr>\n",
       "      <th>...</th>\n",
       "      <td>...</td>\n",
       "      <td>...</td>\n",
       "      <td>...</td>\n",
       "      <td>...</td>\n",
       "      <td>...</td>\n",
       "    </tr>\n",
       "    <tr>\n",
       "      <th>7133</th>\n",
       "      <td>ENST00000339772</td>\n",
       "      <td>3152</td>\n",
       "      <td>2953</td>\n",
       "      <td>13</td>\n",
       "      <td>3.85</td>\n",
       "    </tr>\n",
       "    <tr>\n",
       "      <th>7134</th>\n",
       "      <td>ENST00000535456</td>\n",
       "      <td>3251</td>\n",
       "      <td>3052</td>\n",
       "      <td>0</td>\n",
       "      <td>0</td>\n",
       "    </tr>\n",
       "    <tr>\n",
       "      <th>7135</th>\n",
       "      <td>ENST00000392580</td>\n",
       "      <td>3522</td>\n",
       "      <td>3323</td>\n",
       "      <td>0</td>\n",
       "      <td>0</td>\n",
       "    </tr>\n",
       "    <tr>\n",
       "      <th>7136</th>\n",
       "      <td>ENST00000312527</td>\n",
       "      <td>3976</td>\n",
       "      <td>3777</td>\n",
       "      <td>0</td>\n",
       "      <td>0</td>\n",
       "    </tr>\n",
       "    <tr>\n",
       "      <th>7137</th>\n",
       "      <td>ENST00000524765</td>\n",
       "      <td>5737</td>\n",
       "      <td>5538</td>\n",
       "      <td>12</td>\n",
       "      <td>1.90</td>\n",
       "    </tr>\n",
       "  </tbody>\n",
       "</table>\n",
       "<p>7138 rows × 5 columns</p>\n",
       "</div>"
      ],
      "text/plain": [
       "            target_id  length  eff_length  est_counts    tpm\n",
       "0     ENST00000410108     637         438      115.22 230.18\n",
       "1     ENST00000325147    2916        2717      146.54  47.20\n",
       "2     ENST00000382762    2792        2593    1,419.01 478.85\n",
       "3     ENST00000529614     560         361           0      0\n",
       "4     ENST00000332865     533         334           0      0\n",
       "...               ...     ...         ...         ...    ...\n",
       "7133  ENST00000339772    3152        2953          13   3.85\n",
       "7134  ENST00000535456    3251        3052           0      0\n",
       "7135  ENST00000392580    3522        3323           0      0\n",
       "7136  ENST00000312527    3976        3777           0      0\n",
       "7137  ENST00000524765    5737        5538          12   1.90\n",
       "\n",
       "[7138 rows x 5 columns]"
      ]
     },
     "execution_count": 10,
     "metadata": {},
     "output_type": "execute_result"
    }
   ],
   "source": [
    "kallisto"
   ]
  },
  {
   "attachments": {},
   "cell_type": "markdown",
   "metadata": {},
   "source": [
    "In both cases, the transcripts are sorted according to the FASTA file, so we can perform a direct comparison on the arrays."
   ]
  },
  {
   "cell_type": "code",
   "execution_count": 8,
   "metadata": {},
   "outputs": [],
   "source": [
    "kallisto.sort_values(by='target_id')\n",
    "em.sort_values(by='transcript')\n",
    "kallisto_counts, kallisto_abundances = kallisto['est_counts'].to_numpy(), kallisto['tpm'].to_numpy()\n",
    "em_counts, em_abundances = em['expected_counts'].to_numpy(), em['tpm'].to_numpy()"
   ]
  },
  {
   "cell_type": "code",
   "execution_count": 18,
   "metadata": {},
   "outputs": [
    {
     "data": {
      "text/html": [
       "<div>\n",
       "<style scoped>\n",
       "    .dataframe tbody tr th:only-of-type {\n",
       "        vertical-align: middle;\n",
       "    }\n",
       "\n",
       "    .dataframe tbody tr th {\n",
       "        vertical-align: top;\n",
       "    }\n",
       "\n",
       "    .dataframe thead th {\n",
       "        text-align: right;\n",
       "    }\n",
       "</style>\n",
       "<table border=\"1\" class=\"dataframe\">\n",
       "  <thead>\n",
       "    <tr style=\"text-align: right;\">\n",
       "      <th></th>\n",
       "      <th>target_id</th>\n",
       "      <th>length</th>\n",
       "      <th>eff_length</th>\n",
       "      <th>est_counts</th>\n",
       "      <th>tpm</th>\n",
       "    </tr>\n",
       "  </thead>\n",
       "  <tbody>\n",
       "    <tr>\n",
       "      <th>0</th>\n",
       "      <td>ENST00000410108</td>\n",
       "      <td>637</td>\n",
       "      <td>438</td>\n",
       "      <td>115.22</td>\n",
       "      <td>230.18</td>\n",
       "    </tr>\n",
       "    <tr>\n",
       "      <th>1</th>\n",
       "      <td>ENST00000325147</td>\n",
       "      <td>2916</td>\n",
       "      <td>2717</td>\n",
       "      <td>146.54</td>\n",
       "      <td>47.20</td>\n",
       "    </tr>\n",
       "    <tr>\n",
       "      <th>2</th>\n",
       "      <td>ENST00000382762</td>\n",
       "      <td>2792</td>\n",
       "      <td>2593</td>\n",
       "      <td>1,419.01</td>\n",
       "      <td>478.85</td>\n",
       "    </tr>\n",
       "    <tr>\n",
       "      <th>3</th>\n",
       "      <td>ENST00000529614</td>\n",
       "      <td>560</td>\n",
       "      <td>361</td>\n",
       "      <td>0</td>\n",
       "      <td>0</td>\n",
       "    </tr>\n",
       "    <tr>\n",
       "      <th>4</th>\n",
       "      <td>ENST00000332865</td>\n",
       "      <td>533</td>\n",
       "      <td>334</td>\n",
       "      <td>0</td>\n",
       "      <td>0</td>\n",
       "    </tr>\n",
       "    <tr>\n",
       "      <th>...</th>\n",
       "      <td>...</td>\n",
       "      <td>...</td>\n",
       "      <td>...</td>\n",
       "      <td>...</td>\n",
       "      <td>...</td>\n",
       "    </tr>\n",
       "    <tr>\n",
       "      <th>7133</th>\n",
       "      <td>ENST00000339772</td>\n",
       "      <td>3152</td>\n",
       "      <td>2953</td>\n",
       "      <td>13</td>\n",
       "      <td>3.85</td>\n",
       "    </tr>\n",
       "    <tr>\n",
       "      <th>7134</th>\n",
       "      <td>ENST00000535456</td>\n",
       "      <td>3251</td>\n",
       "      <td>3052</td>\n",
       "      <td>0</td>\n",
       "      <td>0</td>\n",
       "    </tr>\n",
       "    <tr>\n",
       "      <th>7135</th>\n",
       "      <td>ENST00000392580</td>\n",
       "      <td>3522</td>\n",
       "      <td>3323</td>\n",
       "      <td>0</td>\n",
       "      <td>0</td>\n",
       "    </tr>\n",
       "    <tr>\n",
       "      <th>7136</th>\n",
       "      <td>ENST00000312527</td>\n",
       "      <td>3976</td>\n",
       "      <td>3777</td>\n",
       "      <td>0</td>\n",
       "      <td>0</td>\n",
       "    </tr>\n",
       "    <tr>\n",
       "      <th>7137</th>\n",
       "      <td>ENST00000524765</td>\n",
       "      <td>5737</td>\n",
       "      <td>5538</td>\n",
       "      <td>12</td>\n",
       "      <td>1.90</td>\n",
       "    </tr>\n",
       "  </tbody>\n",
       "</table>\n",
       "<p>7138 rows × 5 columns</p>\n",
       "</div>"
      ],
      "text/plain": [
       "            target_id  length  eff_length  est_counts    tpm\n",
       "0     ENST00000410108     637         438      115.22 230.18\n",
       "1     ENST00000325147    2916        2717      146.54  47.20\n",
       "2     ENST00000382762    2792        2593    1,419.01 478.85\n",
       "3     ENST00000529614     560         361           0      0\n",
       "4     ENST00000332865     533         334           0      0\n",
       "...               ...     ...         ...         ...    ...\n",
       "7133  ENST00000339772    3152        2953          13   3.85\n",
       "7134  ENST00000535456    3251        3052           0      0\n",
       "7135  ENST00000392580    3522        3323           0      0\n",
       "7136  ENST00000312527    3976        3777           0      0\n",
       "7137  ENST00000524765    5737        5538          12   1.90\n",
       "\n",
       "[7138 rows x 5 columns]"
      ]
     },
     "execution_count": 18,
     "metadata": {},
     "output_type": "execute_result"
    }
   ],
   "source": [
    "kallisto"
   ]
  },
  {
   "cell_type": "code",
   "execution_count": 17,
   "metadata": {},
   "outputs": [
    {
     "data": {
      "text/html": [
       "<div>\n",
       "<style scoped>\n",
       "    .dataframe tbody tr th:only-of-type {\n",
       "        vertical-align: middle;\n",
       "    }\n",
       "\n",
       "    .dataframe tbody tr th {\n",
       "        vertical-align: top;\n",
       "    }\n",
       "\n",
       "    .dataframe thead th {\n",
       "        text-align: right;\n",
       "    }\n",
       "</style>\n",
       "<table border=\"1\" class=\"dataframe\">\n",
       "  <thead>\n",
       "    <tr style=\"text-align: right;\">\n",
       "      <th></th>\n",
       "      <th>Unnamed: 0</th>\n",
       "      <th>transcript</th>\n",
       "      <th>length</th>\n",
       "      <th>effective_length</th>\n",
       "      <th>expected_counts</th>\n",
       "      <th>tpm</th>\n",
       "    </tr>\n",
       "  </thead>\n",
       "  <tbody>\n",
       "    <tr>\n",
       "      <th>0</th>\n",
       "      <td>0</td>\n",
       "      <td>ENST00000410108</td>\n",
       "      <td>637</td>\n",
       "      <td>438</td>\n",
       "      <td>116</td>\n",
       "      <td>184.84</td>\n",
       "    </tr>\n",
       "    <tr>\n",
       "      <th>1</th>\n",
       "      <td>1</td>\n",
       "      <td>ENST00000325147</td>\n",
       "      <td>2916</td>\n",
       "      <td>2717</td>\n",
       "      <td>302</td>\n",
       "      <td>77.13</td>\n",
       "    </tr>\n",
       "    <tr>\n",
       "      <th>2</th>\n",
       "      <td>2</td>\n",
       "      <td>ENST00000382762</td>\n",
       "      <td>2792</td>\n",
       "      <td>2593</td>\n",
       "      <td>1234</td>\n",
       "      <td>329.52</td>\n",
       "    </tr>\n",
       "    <tr>\n",
       "      <th>3</th>\n",
       "      <td>3</td>\n",
       "      <td>ENST00000529614</td>\n",
       "      <td>560</td>\n",
       "      <td>361</td>\n",
       "      <td>4</td>\n",
       "      <td>9.39</td>\n",
       "    </tr>\n",
       "    <tr>\n",
       "      <th>4</th>\n",
       "      <td>4</td>\n",
       "      <td>ENST00000332865</td>\n",
       "      <td>533</td>\n",
       "      <td>334</td>\n",
       "      <td>26</td>\n",
       "      <td>55.38</td>\n",
       "    </tr>\n",
       "    <tr>\n",
       "      <th>...</th>\n",
       "      <td>...</td>\n",
       "      <td>...</td>\n",
       "      <td>...</td>\n",
       "      <td>...</td>\n",
       "      <td>...</td>\n",
       "      <td>...</td>\n",
       "    </tr>\n",
       "    <tr>\n",
       "      <th>7133</th>\n",
       "      <td>7133</td>\n",
       "      <td>ENST00000339772</td>\n",
       "      <td>3152</td>\n",
       "      <td>2953</td>\n",
       "      <td>9</td>\n",
       "      <td>2.14</td>\n",
       "    </tr>\n",
       "    <tr>\n",
       "      <th>7134</th>\n",
       "      <td>7134</td>\n",
       "      <td>ENST00000535456</td>\n",
       "      <td>3251</td>\n",
       "      <td>3052</td>\n",
       "      <td>3</td>\n",
       "      <td>0.88</td>\n",
       "    </tr>\n",
       "    <tr>\n",
       "      <th>7135</th>\n",
       "      <td>7135</td>\n",
       "      <td>ENST00000392580</td>\n",
       "      <td>3522</td>\n",
       "      <td>3323</td>\n",
       "      <td>0</td>\n",
       "      <td>0.00</td>\n",
       "    </tr>\n",
       "    <tr>\n",
       "      <th>7136</th>\n",
       "      <td>7136</td>\n",
       "      <td>ENST00000312527</td>\n",
       "      <td>3976</td>\n",
       "      <td>3777</td>\n",
       "      <td>0</td>\n",
       "      <td>0.00</td>\n",
       "    </tr>\n",
       "    <tr>\n",
       "      <th>7137</th>\n",
       "      <td>7137</td>\n",
       "      <td>ENST00000524765</td>\n",
       "      <td>5737</td>\n",
       "      <td>5538</td>\n",
       "      <td>11</td>\n",
       "      <td>1.50</td>\n",
       "    </tr>\n",
       "  </tbody>\n",
       "</table>\n",
       "<p>7138 rows × 6 columns</p>\n",
       "</div>"
      ],
      "text/plain": [
       "      Unnamed: 0       transcript  length  effective_length  expected_counts  \\\n",
       "0              0  ENST00000410108     637               438              116   \n",
       "1              1  ENST00000325147    2916              2717              302   \n",
       "2              2  ENST00000382762    2792              2593             1234   \n",
       "3              3  ENST00000529614     560               361                4   \n",
       "4              4  ENST00000332865     533               334               26   \n",
       "...          ...              ...     ...               ...              ...   \n",
       "7133        7133  ENST00000339772    3152              2953                9   \n",
       "7134        7134  ENST00000535456    3251              3052                3   \n",
       "7135        7135  ENST00000392580    3522              3323                0   \n",
       "7136        7136  ENST00000312527    3976              3777                0   \n",
       "7137        7137  ENST00000524765    5737              5538               11   \n",
       "\n",
       "        tpm  \n",
       "0    184.84  \n",
       "1     77.13  \n",
       "2    329.52  \n",
       "3      9.39  \n",
       "4     55.38  \n",
       "...     ...  \n",
       "7133   2.14  \n",
       "7134   0.88  \n",
       "7135   0.00  \n",
       "7136   0.00  \n",
       "7137   1.50  \n",
       "\n",
       "[7138 rows x 6 columns]"
      ]
     },
     "execution_count": 17,
     "metadata": {},
     "output_type": "execute_result"
    }
   ],
   "source": [
    "em"
   ]
  },
  {
   "cell_type": "code",
   "execution_count": 26,
   "metadata": {},
   "outputs": [],
   "source": [
    "def relativeMedianAE(a, b):\n",
    "    return np.median(np.abs(((a-b))/(a + 0.001)))"
   ]
  },
  {
   "cell_type": "code",
   "execution_count": 27,
   "metadata": {},
   "outputs": [],
   "source": [
    "def relativeMAE(a, b):\n",
    "    return np.mean(np.abs(((a-b))/(a + 0.001)))"
   ]
  },
  {
   "cell_type": "code",
   "execution_count": 28,
   "metadata": {},
   "outputs": [
    {
     "name": "stdout",
     "output_type": "stream",
     "text": [
      "Relative Median Absolute Error of Abundances:  0.4170535922078804\n"
     ]
    }
   ],
   "source": [
    "print('Relative Median Absolute Error of Abundances: ', relativeMedianAE(kallisto_abundances, em_abundances))"
   ]
  },
  {
   "cell_type": "code",
   "execution_count": 29,
   "metadata": {},
   "outputs": [
    {
     "name": "stdout",
     "output_type": "stream",
     "text": [
      "Relative Mean Absolute Error of Abundances:  21805.85398438921\n"
     ]
    }
   ],
   "source": [
    "print('Relative Mean Absolute Error of Abundances: ', relativeMAE(kallisto_abundances, em_abundances))"
   ]
  },
  {
   "cell_type": "code",
   "execution_count": 40,
   "metadata": {},
   "outputs": [
    {
     "name": "stderr",
     "output_type": "stream",
     "text": [
      "/var/folders/wg/rc950kx52952n0613q25df340000gn/T/ipykernel_86729/4097752680.py:2: RuntimeWarning: divide by zero encountered in log\n",
      "  sns.boxplot(-np.log(np.abs((em_abundances-kallisto_abundances)/(kallisto_abundances + 0.001))))\n"
     ]
    },
    {
     "data": {
      "text/plain": [
       "<Axes: >"
      ]
     },
     "execution_count": 40,
     "metadata": {},
     "output_type": "execute_result"
    },
    {
     "data": {
      "image/png": "[encoded data removed]",
      "text/plain": [
       "<Figure size 640x480 with 1 Axes>"
      ]
     },
     "metadata": {},
     "output_type": "display_data"
    }
   ],
   "source": [
    "import seaborn as sns\n",
    "sns.boxplot(-np.log(np.abs((em_abundances-kallisto_abundances)/(kallisto_abundances + 0.001))))"
   ]
  },
  {
   "cell_type": "code",
   "execution_count": 49,
   "metadata": {},
   "outputs": [
    {
     "data": {
      "text/plain": [
       "75"
      ]
     },
     "execution_count": 49,
     "metadata": {},
     "output_type": "execute_result"
    }
   ],
   "source": [
    "np.argmax(np.abs(kallisto_abundances - em_abundances))"
   ]
  }
 ],
 "metadata": {
  "kernelspec": {
   "display_name": "bioenv",
   "language": "python",
   "name": "python3"
  },
  "language_info": {
   "codemirror_mode": {
    "name": "ipython",
    "version": 3
   },
   "file_extension": ".py",
   "mimetype": "text/x-python",
   "name": "python",
   "nbconvert_exporter": "python",
   "pygments_lexer": "ipython3",
   "version": "3.10.9"
  },
  "orig_nbformat": 4
 },
 "nbformat": 4,
 "nbformat_minor": 2
}
