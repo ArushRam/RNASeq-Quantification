{
 "cells": [
  {
   "cell_type": "code",
   "execution_count": 1,
   "metadata": {},
   "outputs": [],
   "source": [
    "import numpy as np\n",
    "import sys\n",
    "import os\n",
    "from src.IsoEM import IsoEM\n",
    "import matplotlib.pyplot as plt\n",
    "import re\n",
    "import pandas as pd"
   ]
  },
  {
   "attachments": {},
   "cell_type": "markdown",
   "metadata": {},
   "source": [
    "## Run Expectation Maximization"
   ]
  },
  {
   "attachments": {},
   "cell_type": "markdown",
   "metadata": {},
   "source": [
    "#### Define File Paths"
   ]
  },
  {
   "cell_type": "code",
   "execution_count": 2,
   "metadata": {},
   "outputs": [],
   "source": [
    "# Define File Paths\n",
    "\n",
    "data_path = f\"{os.getcwd()}/data/\"\n",
    "transcriptome_path = data_path + \"chr11_transcriptome.fasta\"\n",
    "alignment_path = data_path + \"aligned.bam\""
   ]
  },
  {
   "attachments": {},
   "cell_type": "markdown",
   "metadata": {},
   "source": [
    "#### Initialize IsoEM class with data paths and set maximum iterations and convergence threshold."
   ]
  },
  {
   "cell_type": "code",
   "execution_count": 3,
   "metadata": {},
   "outputs": [
    {
     "name": "stderr",
     "output_type": "stream",
     "text": [
      "[E::idx_find_and_load] Could not retrieve index file for '/Users/arushramteke/Desktop/CM121/Project/RNASeq-Quantification/data/aligned.bam'\n"
     ]
    }
   ],
   "source": [
    "isoem = IsoEM(transcriptome_path, alignment_path, max_iter=500, convergence_threshold=0.001)"
   ]
  },
  {
   "cell_type": "code",
   "execution_count": 4,
   "metadata": {},
   "outputs": [
    {
     "name": "stdout",
     "output_type": "stream",
     "text": [
      "Number of Reads:  1282526\n",
      "Number of Transcripts 7138\n"
     ]
    }
   ],
   "source": [
    "print(\"Number of Reads: \", len(isoem.weights))\n",
    "print(\"Number of Transcripts\", len(isoem.transcript_ids))"
   ]
  },
  {
   "attachments": {},
   "cell_type": "markdown",
   "metadata": {},
   "source": [
    "#### Run Expectation Maximization Algorithm"
   ]
  },
  {
   "cell_type": "code",
   "execution_count": 5,
   "metadata": {},
   "outputs": [
    {
     "name": "stdout",
     "output_type": "stream",
     "text": [
      "Iteration: 1, Median Relative Difference: 0.9321344400772182\n",
      "Iteration: 2, Median Relative Difference: 0.12207223168281162\n",
      "Iteration: 3, Median Relative Difference: 0.08564758049347007\n",
      "Iteration: 4, Median Relative Difference: 0.06481661741407235\n",
      "Iteration: 5, Median Relative Difference: 0.049135926140851716\n",
      "Iteration: 6, Median Relative Difference: 0.04042993037516829\n",
      "Iteration: 7, Median Relative Difference: 0.034603577732955595\n",
      "Iteration: 8, Median Relative Difference: 0.02963299900782284\n",
      "Iteration: 9, Median Relative Difference: 0.02577977446126448\n",
      "Iteration: 10, Median Relative Difference: 0.02304156715107392\n",
      "Iteration: 11, Median Relative Difference: 0.020067191018280618\n",
      "Iteration: 12, Median Relative Difference: 0.018111019293065897\n",
      "Iteration: 13, Median Relative Difference: 0.016274422224706726\n",
      "Iteration: 14, Median Relative Difference: 0.014579630183794367\n",
      "Iteration: 15, Median Relative Difference: 0.01336824127449187\n",
      "Iteration: 16, Median Relative Difference: 0.01193276323580584\n",
      "Iteration: 17, Median Relative Difference: 0.010912803376194151\n",
      "Iteration: 18, Median Relative Difference: 0.010169352540617568\n",
      "Iteration: 19, Median Relative Difference: 0.009258531509958819\n",
      "Iteration: 20, Median Relative Difference: 0.008420815771227122\n",
      "Iteration: 21, Median Relative Difference: 0.00767417245589225\n",
      "Iteration: 22, Median Relative Difference: 0.006982307873273266\n",
      "Iteration: 23, Median Relative Difference: 0.006381307894132878\n",
      "Iteration: 24, Median Relative Difference: 0.005885329174637962\n",
      "Iteration: 25, Median Relative Difference: 0.0054310086427801505\n",
      "Iteration: 26, Median Relative Difference: 0.005058726748489364\n",
      "Iteration: 27, Median Relative Difference: 0.004665666196696564\n",
      "Iteration: 28, Median Relative Difference: 0.004340776685401669\n",
      "Iteration: 29, Median Relative Difference: 0.004063079762486161\n",
      "Iteration: 30, Median Relative Difference: 0.0038068360340415947\n",
      "Iteration: 31, Median Relative Difference: 0.00347770267611384\n",
      "Iteration: 32, Median Relative Difference: 0.0032722360226708188\n",
      "Iteration: 33, Median Relative Difference: 0.0030167135326346914\n",
      "Iteration: 34, Median Relative Difference: 0.0028503624475350693\n",
      "Iteration: 35, Median Relative Difference: 0.002630886396706088\n",
      "Iteration: 36, Median Relative Difference: 0.0024733330600802423\n",
      "Iteration: 37, Median Relative Difference: 0.002251828310636742\n",
      "Iteration: 38, Median Relative Difference: 0.0020848604275653013\n",
      "Iteration: 39, Median Relative Difference: 0.0019341343055100297\n",
      "Iteration: 40, Median Relative Difference: 0.0018066743031991523\n",
      "Iteration: 41, Median Relative Difference: 0.0016996115156532954\n",
      "Iteration: 42, Median Relative Difference: 0.0015793745185616066\n",
      "Iteration: 43, Median Relative Difference: 0.0014855285145941206\n",
      "Iteration: 44, Median Relative Difference: 0.0014066236960652294\n",
      "Iteration: 45, Median Relative Difference: 0.0013222757489551751\n",
      "Iteration: 46, Median Relative Difference: 0.0012737793304551511\n",
      "Iteration: 47, Median Relative Difference: 0.0012062518118411633\n",
      "Iteration: 48, Median Relative Difference: 0.0011270704321348275\n",
      "Iteration: 49, Median Relative Difference: 0.0010558952261496392\n",
      "Iteration: 50, Median Relative Difference: 0.000983512831414718\n"
     ]
    },
    {
     "data": {
      "text/plain": [
       "array([1.84638005e-04, 4.74041271e-05, 3.60881853e-04, ...,\n",
       "       4.20834714e-26, 6.97074795e-29, 1.50061396e-06])"
      ]
     },
     "execution_count": 5,
     "metadata": {},
     "output_type": "execute_result"
    }
   ],
   "source": [
    "isoem.EM()"
   ]
  },
  {
   "cell_type": "code",
   "execution_count": 6,
   "metadata": {},
   "outputs": [],
   "source": [
    "em, meddiff, avgdiff = isoem.get_results()"
   ]
  },
  {
   "attachments": {},
   "cell_type": "markdown",
   "metadata": {},
   "source": [
    "#### Results Table"
   ]
  },
  {
   "cell_type": "code",
   "execution_count": 21,
   "metadata": {},
   "outputs": [
    {
     "data": {
      "text/html": [
       "<div>\n",
       "<style scoped>\n",
       "    .dataframe tbody tr th:only-of-type {\n",
       "        vertical-align: middle;\n",
       "    }\n",
       "\n",
       "    .dataframe tbody tr th {\n",
       "        vertical-align: top;\n",
       "    }\n",
       "\n",
       "    .dataframe thead th {\n",
       "        text-align: right;\n",
       "    }\n",
       "</style>\n",
       "<table border=\"1\" class=\"dataframe\">\n",
       "  <thead>\n",
       "    <tr style=\"text-align: right;\">\n",
       "      <th></th>\n",
       "      <th>Unnamed: 0</th>\n",
       "      <th>transcript</th>\n",
       "      <th>length</th>\n",
       "      <th>effective_length</th>\n",
       "      <th>expected_counts</th>\n",
       "      <th>tpm</th>\n",
       "    </tr>\n",
       "  </thead>\n",
       "  <tbody>\n",
       "    <tr>\n",
       "      <th>0</th>\n",
       "      <td>0</td>\n",
       "      <td>ENST00000410108</td>\n",
       "      <td>637</td>\n",
       "      <td>438</td>\n",
       "      <td>116</td>\n",
       "      <td>184.64</td>\n",
       "    </tr>\n",
       "    <tr>\n",
       "      <th>1</th>\n",
       "      <td>1</td>\n",
       "      <td>ENST00000325147</td>\n",
       "      <td>2916</td>\n",
       "      <td>2717</td>\n",
       "      <td>185</td>\n",
       "      <td>47.40</td>\n",
       "    </tr>\n",
       "    <tr>\n",
       "      <th>2</th>\n",
       "      <td>2</td>\n",
       "      <td>ENST00000382762</td>\n",
       "      <td>2792</td>\n",
       "      <td>2593</td>\n",
       "      <td>1351</td>\n",
       "      <td>360.88</td>\n",
       "    </tr>\n",
       "    <tr>\n",
       "      <th>3</th>\n",
       "      <td>3</td>\n",
       "      <td>ENST00000529614</td>\n",
       "      <td>560</td>\n",
       "      <td>361</td>\n",
       "      <td>1</td>\n",
       "      <td>2.65</td>\n",
       "    </tr>\n",
       "    <tr>\n",
       "      <th>4</th>\n",
       "      <td>4</td>\n",
       "      <td>ENST00000332865</td>\n",
       "      <td>533</td>\n",
       "      <td>334</td>\n",
       "      <td>30</td>\n",
       "      <td>62.89</td>\n",
       "    </tr>\n",
       "    <tr>\n",
       "      <th>5</th>\n",
       "      <td>5</td>\n",
       "      <td>ENST00000486280</td>\n",
       "      <td>665</td>\n",
       "      <td>466</td>\n",
       "      <td>4</td>\n",
       "      <td>6.40</td>\n",
       "    </tr>\n",
       "    <tr>\n",
       "      <th>6</th>\n",
       "      <td>6</td>\n",
       "      <td>ENST00000342878</td>\n",
       "      <td>435</td>\n",
       "      <td>236</td>\n",
       "      <td>0</td>\n",
       "      <td>0</td>\n",
       "    </tr>\n",
       "    <tr>\n",
       "      <th>7</th>\n",
       "      <td>7</td>\n",
       "      <td>ENST00000325113</td>\n",
       "      <td>1284</td>\n",
       "      <td>1085</td>\n",
       "      <td>0</td>\n",
       "      <td>0</td>\n",
       "    </tr>\n",
       "    <tr>\n",
       "      <th>8</th>\n",
       "      <td>8</td>\n",
       "      <td>ENST00000525282</td>\n",
       "      <td>764</td>\n",
       "      <td>565</td>\n",
       "      <td>0</td>\n",
       "      <td>0</td>\n",
       "    </tr>\n",
       "    <tr>\n",
       "      <th>9</th>\n",
       "      <td>9</td>\n",
       "      <td>ENST00000526104</td>\n",
       "      <td>3506</td>\n",
       "      <td>3307</td>\n",
       "      <td>1007</td>\n",
       "      <td>210.98</td>\n",
       "    </tr>\n",
       "    <tr>\n",
       "      <th>10</th>\n",
       "      <td>10</td>\n",
       "      <td>ENST00000325207</td>\n",
       "      <td>2702</td>\n",
       "      <td>2503</td>\n",
       "      <td>343</td>\n",
       "      <td>94.91</td>\n",
       "    </tr>\n",
       "    <tr>\n",
       "      <th>11</th>\n",
       "      <td>11</td>\n",
       "      <td>ENST00000528357</td>\n",
       "      <td>500</td>\n",
       "      <td>301</td>\n",
       "      <td>39</td>\n",
       "      <td>90.74</td>\n",
       "    </tr>\n",
       "    <tr>\n",
       "      <th>12</th>\n",
       "      <td>12</td>\n",
       "      <td>ENST00000526982</td>\n",
       "      <td>965</td>\n",
       "      <td>766</td>\n",
       "      <td>0</td>\n",
       "      <td>0.26</td>\n",
       "    </tr>\n",
       "    <tr>\n",
       "      <th>13</th>\n",
       "      <td>13</td>\n",
       "      <td>ENST00000530889</td>\n",
       "      <td>563</td>\n",
       "      <td>364</td>\n",
       "      <td>97</td>\n",
       "      <td>185.38</td>\n",
       "    </tr>\n",
       "    <tr>\n",
       "      <th>14</th>\n",
       "      <td>14</td>\n",
       "      <td>ENST00000626818</td>\n",
       "      <td>159</td>\n",
       "      <td>0</td>\n",
       "      <td>0</td>\n",
       "      <td>0</td>\n",
       "    </tr>\n",
       "    <tr>\n",
       "      <th>15</th>\n",
       "      <td>15</td>\n",
       "      <td>ENST00000527696</td>\n",
       "      <td>2565</td>\n",
       "      <td>2366</td>\n",
       "      <td>395</td>\n",
       "      <td>115.74</td>\n",
       "    </tr>\n",
       "    <tr>\n",
       "      <th>16</th>\n",
       "      <td>16</td>\n",
       "      <td>ENST00000527468</td>\n",
       "      <td>571</td>\n",
       "      <td>372</td>\n",
       "      <td>22</td>\n",
       "      <td>41.68</td>\n",
       "    </tr>\n",
       "    <tr>\n",
       "      <th>17</th>\n",
       "      <td>17</td>\n",
       "      <td>ENST00000527728</td>\n",
       "      <td>859</td>\n",
       "      <td>660</td>\n",
       "      <td>106</td>\n",
       "      <td>111.64</td>\n",
       "    </tr>\n",
       "    <tr>\n",
       "      <th>18</th>\n",
       "      <td>18</td>\n",
       "      <td>ENST00000524854</td>\n",
       "      <td>649</td>\n",
       "      <td>450</td>\n",
       "      <td>86</td>\n",
       "      <td>133.40</td>\n",
       "    </tr>\n",
       "    <tr>\n",
       "      <th>19</th>\n",
       "      <td>19</td>\n",
       "      <td>ENST00000529275</td>\n",
       "      <td>440</td>\n",
       "      <td>241</td>\n",
       "      <td>87</td>\n",
       "      <td>251.27</td>\n",
       "    </tr>\n",
       "  </tbody>\n",
       "</table>\n",
       "</div>"
      ],
      "text/plain": [
       "    Unnamed: 0       transcript  length  effective_length  expected_counts  \\\n",
       "0            0  ENST00000410108     637               438              116   \n",
       "1            1  ENST00000325147    2916              2717              185   \n",
       "2            2  ENST00000382762    2792              2593             1351   \n",
       "3            3  ENST00000529614     560               361                1   \n",
       "4            4  ENST00000332865     533               334               30   \n",
       "5            5  ENST00000486280     665               466                4   \n",
       "6            6  ENST00000342878     435               236                0   \n",
       "7            7  ENST00000325113    1284              1085                0   \n",
       "8            8  ENST00000525282     764               565                0   \n",
       "9            9  ENST00000526104    3506              3307             1007   \n",
       "10          10  ENST00000325207    2702              2503              343   \n",
       "11          11  ENST00000528357     500               301               39   \n",
       "12          12  ENST00000526982     965               766                0   \n",
       "13          13  ENST00000530889     563               364               97   \n",
       "14          14  ENST00000626818     159                 0                0   \n",
       "15          15  ENST00000527696    2565              2366              395   \n",
       "16          16  ENST00000527468     571               372               22   \n",
       "17          17  ENST00000527728     859               660              106   \n",
       "18          18  ENST00000524854     649               450               86   \n",
       "19          19  ENST00000529275     440               241               87   \n",
       "\n",
       "      tpm  \n",
       "0  184.64  \n",
       "1   47.40  \n",
       "2  360.88  \n",
       "3    2.65  \n",
       "4   62.89  \n",
       "5    6.40  \n",
       "6       0  \n",
       "7       0  \n",
       "8       0  \n",
       "9  210.98  \n",
       "10  94.91  \n",
       "11  90.74  \n",
       "12   0.26  \n",
       "13 185.38  \n",
       "14      0  \n",
       "15 115.74  \n",
       "16  41.68  \n",
       "17 111.64  \n",
       "18 133.40  \n",
       "19 251.27  "
      ]
     },
     "execution_count": 21,
     "metadata": {},
     "output_type": "execute_result"
    }
   ],
   "source": [
    "em.head(20)"
   ]
  },
  {
   "attachments": {},
   "cell_type": "markdown",
   "metadata": {},
   "source": [
    "#### Plot Median Relative Difference"
   ]
  },
  {
   "cell_type": "code",
   "execution_count": 8,
   "metadata": {},
   "outputs": [
    {
     "data": {
      "text/plain": [
       "([<matplotlib.axis.XTick at 0x7fd3240b9d80>,\n",
       "  <matplotlib.axis.XTick at 0x7fd3240b9d50>,\n",
       "  <matplotlib.axis.XTick at 0x7fd3240b9c60>,\n",
       "  <matplotlib.axis.XTick at 0x7fd324116380>,\n",
       "  <matplotlib.axis.XTick at 0x7fd324116e30>,\n",
       "  <matplotlib.axis.XTick at 0x7fd3241178e0>,\n",
       "  <matplotlib.axis.XTick at 0x7fd367ec03d0>,\n",
       "  <matplotlib.axis.XTick at 0x7fd367ec0e80>,\n",
       "  <matplotlib.axis.XTick at 0x7fd3241170a0>,\n",
       "  <matplotlib.axis.XTick at 0x7fd367ec18a0>,\n",
       "  <matplotlib.axis.XTick at 0x7fd367ec2350>],\n",
       " [Text(0, 0, '0'),\n",
       "  Text(5, 0, '5'),\n",
       "  Text(10, 0, '10'),\n",
       "  Text(15, 0, '15'),\n",
       "  Text(20, 0, '20'),\n",
       "  Text(25, 0, '25'),\n",
       "  Text(30, 0, '30'),\n",
       "  Text(35, 0, '35'),\n",
       "  Text(40, 0, '40'),\n",
       "  Text(45, 0, '45'),\n",
       "  Text(50, 0, '50')])"
      ]
     },
     "execution_count": 8,
     "metadata": {},
     "output_type": "execute_result"
    },
    {
     "data": {
      "image/png": "[encoded data removed]",
      "text/plain": [
       "<Figure size 640x480 with 1 Axes>"
      ]
     },
     "metadata": {},
     "output_type": "display_data"
    }
   ],
   "source": [
    "plt.plot(np.arange(1, len(meddiff) + 1), meddiff)\n",
    "plt.ylabel('Relative Difference')\n",
    "plt.xlabel('Iteration')\n",
    "plt.title('Median Relative Difference in  Relative Abundances')\n",
    "plt.xticks(range(0,len(meddiff) + 1, 5))"
   ]
  },
  {
   "attachments": {},
   "cell_type": "markdown",
   "metadata": {},
   "source": [
    "#### Save Results"
   ]
  },
  {
   "cell_type": "code",
   "execution_count": 9,
   "metadata": {},
   "outputs": [],
   "source": [
    "em.to_csv(f'{os.getcwd()}/results/table.csv')\n",
    "with open(f'{os.getcwd()}/results/median_relative_diffs.npy', 'wb') as f:\n",
    "    np.save(f, meddiff)\n",
    "with open(f'{os.getcwd()}/results/mean_relative_diffs.npy', 'wb') as f:\n",
    "    np.save(f, avgdiff)"
   ]
  },
  {
   "attachments": {},
   "cell_type": "markdown",
   "metadata": {},
   "source": [
    "## Comparison with Kallisto"
   ]
  },
  {
   "cell_type": "code",
   "execution_count": 22,
   "metadata": {},
   "outputs": [],
   "source": [
    "kallisto = pd.read_csv(f'{os.getcwd()}/kallisto/output/abundance.tsv', sep='\\t')\n",
    "em = pd.read_csv(f'{os.getcwd()}/results/table.csv')"
   ]
  },
  {
   "cell_type": "code",
   "execution_count": 23,
   "metadata": {},
   "outputs": [
    {
     "data": {
      "text/html": [
       "<div>\n",
       "<style scoped>\n",
       "    .dataframe tbody tr th:only-of-type {\n",
       "        vertical-align: middle;\n",
       "    }\n",
       "\n",
       "    .dataframe tbody tr th {\n",
       "        vertical-align: top;\n",
       "    }\n",
       "\n",
       "    .dataframe thead th {\n",
       "        text-align: right;\n",
       "    }\n",
       "</style>\n",
       "<table border=\"1\" class=\"dataframe\">\n",
       "  <thead>\n",
       "    <tr style=\"text-align: right;\">\n",
       "      <th></th>\n",
       "      <th>target_id</th>\n",
       "      <th>length</th>\n",
       "      <th>eff_length</th>\n",
       "      <th>est_counts</th>\n",
       "      <th>tpm</th>\n",
       "    </tr>\n",
       "  </thead>\n",
       "  <tbody>\n",
       "    <tr>\n",
       "      <th>0</th>\n",
       "      <td>ENST00000410108</td>\n",
       "      <td>637</td>\n",
       "      <td>438</td>\n",
       "      <td>115.22</td>\n",
       "      <td>230.16</td>\n",
       "    </tr>\n",
       "    <tr>\n",
       "      <th>1</th>\n",
       "      <td>ENST00000325147</td>\n",
       "      <td>2916</td>\n",
       "      <td>2717</td>\n",
       "      <td>146.54</td>\n",
       "      <td>47.19</td>\n",
       "    </tr>\n",
       "    <tr>\n",
       "      <th>2</th>\n",
       "      <td>ENST00000382762</td>\n",
       "      <td>2792</td>\n",
       "      <td>2593</td>\n",
       "      <td>1,419.01</td>\n",
       "      <td>478.83</td>\n",
       "    </tr>\n",
       "    <tr>\n",
       "      <th>3</th>\n",
       "      <td>ENST00000529614</td>\n",
       "      <td>560</td>\n",
       "      <td>361</td>\n",
       "      <td>0</td>\n",
       "      <td>0</td>\n",
       "    </tr>\n",
       "    <tr>\n",
       "      <th>4</th>\n",
       "      <td>ENST00000332865</td>\n",
       "      <td>533</td>\n",
       "      <td>334</td>\n",
       "      <td>0</td>\n",
       "      <td>0</td>\n",
       "    </tr>\n",
       "    <tr>\n",
       "      <th>...</th>\n",
       "      <td>...</td>\n",
       "      <td>...</td>\n",
       "      <td>...</td>\n",
       "      <td>...</td>\n",
       "      <td>...</td>\n",
       "    </tr>\n",
       "    <tr>\n",
       "      <th>7133</th>\n",
       "      <td>ENST00000339772</td>\n",
       "      <td>3152</td>\n",
       "      <td>2953</td>\n",
       "      <td>13</td>\n",
       "      <td>3.85</td>\n",
       "    </tr>\n",
       "    <tr>\n",
       "      <th>7134</th>\n",
       "      <td>ENST00000535456</td>\n",
       "      <td>3251</td>\n",
       "      <td>3052</td>\n",
       "      <td>0</td>\n",
       "      <td>0</td>\n",
       "    </tr>\n",
       "    <tr>\n",
       "      <th>7135</th>\n",
       "      <td>ENST00000392580</td>\n",
       "      <td>3522</td>\n",
       "      <td>3323</td>\n",
       "      <td>0</td>\n",
       "      <td>0</td>\n",
       "    </tr>\n",
       "    <tr>\n",
       "      <th>7136</th>\n",
       "      <td>ENST00000312527</td>\n",
       "      <td>3976</td>\n",
       "      <td>3777</td>\n",
       "      <td>0</td>\n",
       "      <td>0</td>\n",
       "    </tr>\n",
       "    <tr>\n",
       "      <th>7137</th>\n",
       "      <td>ENST00000524765</td>\n",
       "      <td>5737</td>\n",
       "      <td>5538</td>\n",
       "      <td>12</td>\n",
       "      <td>1.90</td>\n",
       "    </tr>\n",
       "  </tbody>\n",
       "</table>\n",
       "<p>7138 rows × 5 columns</p>\n",
       "</div>"
      ],
      "text/plain": [
       "            target_id  length  eff_length  est_counts    tpm\n",
       "0     ENST00000410108     637         438      115.22 230.16\n",
       "1     ENST00000325147    2916        2717      146.54  47.19\n",
       "2     ENST00000382762    2792        2593    1,419.01 478.83\n",
       "3     ENST00000529614     560         361           0      0\n",
       "4     ENST00000332865     533         334           0      0\n",
       "...               ...     ...         ...         ...    ...\n",
       "7133  ENST00000339772    3152        2953          13   3.85\n",
       "7134  ENST00000535456    3251        3052           0      0\n",
       "7135  ENST00000392580    3522        3323           0      0\n",
       "7136  ENST00000312527    3976        3777           0      0\n",
       "7137  ENST00000524765    5737        5538          12   1.90\n",
       "\n",
       "[7138 rows x 5 columns]"
      ]
     },
     "execution_count": 23,
     "metadata": {},
     "output_type": "execute_result"
    }
   ],
   "source": [
    "kallisto"
   ]
  },
  {
   "attachments": {},
   "cell_type": "markdown",
   "metadata": {},
   "source": [
    "In both cases, the transcripts are sorted according to the FASTA file, so we can perform a direct comparison on the arrays."
   ]
  },
  {
   "cell_type": "code",
   "execution_count": 24,
   "metadata": {},
   "outputs": [],
   "source": [
    "kallisto.sort_values(by='target_id')\n",
    "em.sort_values(by='transcript')\n",
    "kallisto_counts, kallisto_abundances = kallisto['est_counts'].to_numpy(), kallisto['tpm'].to_numpy()\n",
    "em_counts, em_abundances = em['expected_counts'].to_numpy(), em['tpm'].to_numpy()"
   ]
  },
  {
   "cell_type": "code",
   "execution_count": 26,
   "metadata": {},
   "outputs": [],
   "source": [
    "def relativeMedianAE(a, b):\n",
    "    return np.median(np.abs(((a-b))/(a + 0.001)))\n",
    "def relativeMAE(a, b):\n",
    "    return np.mean(np.abs(((a-b))/(a + 0.001)))"
   ]
  },
  {
   "cell_type": "code",
   "execution_count": 27,
   "metadata": {},
   "outputs": [
    {
     "name": "stdout",
     "output_type": "stream",
     "text": [
      "Relative Median Absolute Error of Abundances:  0.3250469322841376\n"
     ]
    }
   ],
   "source": [
    "print('Relative Median Absolute Error of Abundances: ', relativeMedianAE(kallisto_abundances, em_abundances))"
   ]
  },
  {
   "cell_type": "code",
   "execution_count": 28,
   "metadata": {},
   "outputs": [
    {
     "name": "stdout",
     "output_type": "stream",
     "text": [
      "Relative Mean Absolute Error of Abundances:  21083.15342055187\n"
     ]
    }
   ],
   "source": [
    "print('Relative Mean Absolute Error of Abundances: ', relativeMAE(kallisto_abundances, em_abundances))"
   ]
  },
  {
   "cell_type": "code",
   "execution_count": 37,
   "metadata": {},
   "outputs": [
    {
     "name": "stderr",
     "output_type": "stream",
     "text": [
      "/var/folders/wg/rc950kx52952n0613q25df340000gn/T/ipykernel_70399/1562968167.py:2: RuntimeWarning: divide by zero encountered in log\n",
      "  sns.boxplot(np.log(np.abs((em_abundances-kallisto_abundances)/(kallisto_abundances + 0.001))))\n"
     ]
    },
    {
     "data": {
      "text/plain": [
       "<Axes: >"
      ]
     },
     "execution_count": 37,
     "metadata": {},
     "output_type": "execute_result"
    },
    {
     "data": {
      "image/png": "[encoded data removed]",
      "text/plain": [
       "<Figure size 640x480 with 1 Axes>"
      ]
     },
     "metadata": {},
     "output_type": "display_data"
    }
   ],
   "source": [
    "import seaborn as sns\n",
    "sns.boxplot(np.log(np.abs((em_abundances-kallisto_abundances)/(kallisto_abundances + 0.001))))"
   ]
  },
  {
   "cell_type": "code",
   "execution_count": 36,
   "metadata": {},
   "outputs": [
    {
     "name": "stderr",
     "output_type": "stream",
     "text": [
      "/var/folders/wg/rc950kx52952n0613q25df340000gn/T/ipykernel_70399/3969498090.py:1: RuntimeWarning: divide by zero encountered in log\n",
      "  sns.boxplot(np.log(np.abs((em_abundances-kallisto_abundances)/(kallisto_abundances + 0.001))), showfliers=False)\n"
     ]
    },
    {
     "data": {
      "text/plain": [
       "<Axes: >"
      ]
     },
     "execution_count": 36,
     "metadata": {},
     "output_type": "execute_result"
    },
    {
     "data": {
      "image/png": "[encoded data removed]",
      "text/plain": [
       "<Figure size 640x480 with 1 Axes>"
      ]
     },
     "metadata": {},
     "output_type": "display_data"
    }
   ],
   "source": [
    "sns.boxplot(np.log(np.abs((em_abundances-kallisto_abundances)/(kallisto_abundances + 0.001))), showfliers=False)"
   ]
  },
  {
   "cell_type": "code",
   "execution_count": null,
   "metadata": {},
   "outputs": [],
   "source": []
  }
 ],
 "metadata": {
  "kernelspec": {
   "display_name": "bioenv",
   "language": "python",
   "name": "python3"
  },
  "language_info": {
   "codemirror_mode": {
    "name": "ipython",
    "version": 3
   },
   "file_extension": ".py",
   "mimetype": "text/x-python",
   "name": "python",
   "nbconvert_exporter": "python",
   "pygments_lexer": "ipython3",
   "version": "3.10.9"
  },
  "orig_nbformat": 4
 },
 "nbformat": 4,
 "nbformat_minor": 2
}
